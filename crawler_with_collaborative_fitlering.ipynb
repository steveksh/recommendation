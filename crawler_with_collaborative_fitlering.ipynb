{
 "cells": [
  {
   "cell_type": "code",
   "execution_count": 16,
   "metadata": {},
   "outputs": [],
   "source": [
    "import pandas as pd \n",
    "import numpy as np \n",
    "import selenium\n",
    "from selenium import webdriver\n",
    "from webdriver_manager.chrome import ChromeDriverManager\n",
    "from selenium.webdriver.common.by import By\n",
    "\n",
    "# from selenium.webdriver.chrome.options import Options\n",
    "# options = Options()\n",
    "# options.headless = True \n",
    "\n",
    "from bs4 import BeautifulSoup"
   ]
  },
  {
   "cell_type": "code",
   "execution_count": 7,
   "metadata": {},
   "outputs": [
    {
     "name": "stderr",
     "output_type": "stream",
     "text": [
      "C:\\Users\\Stevie\\AppData\\Local\\Temp\\ipykernel_33056\\1328200409.py:2: DeprecationWarning: executable_path has been deprecated, please pass in a Service object\n",
      "  driver = webdriver.Chrome(ChromeDriverManager().install())\n"
     ]
    }
   ],
   "source": [
    "# Install Driver \n",
    "driver = webdriver.Chrome(ChromeDriverManager().install())"
   ]
  },
  {
   "cell_type": "code",
   "execution_count": 8,
   "metadata": {},
   "outputs": [],
   "source": [
    "# Setting up urls \n",
    "search_url = \"https://www.price.com.hk/ec-product-list.php?list_id=1218\"\n",
    "driver.get(search_url)"
   ]
  },
  {
   "cell_type": "code",
   "execution_count": 37,
   "metadata": {},
   "outputs": [],
   "source": [
    "product_prices_raw = driver.find_elements(By.CLASS_NAME, \"text-price-number\")\n",
    "product_name_raw = driver.find_elements(By.CLASS_NAME, \"ec-product-title\")"
   ]
  },
  {
   "cell_type": "code",
   "execution_count": 56,
   "metadata": {},
   "outputs": [],
   "source": [
    "product_info = {}\n",
    "# product name \n",
    "product_list = []\n",
    "for product in product_name_raw:\n",
    "    product_list.append(product.text)\n",
    "\n",
    "# product price - skipping the discounted prices \n",
    "price_list = []\n",
    "for index, price in enumerate(product_prices_raw, start = 1):\n",
    "    if index % 2 == 1:\n",
    "        continue\n",
    "    price_list.append(price.text)\n",
    "\n",
    "product_info['product_name'] = product_list\n",
    "product_info['product_price'] = price_list"
   ]
  },
  {
   "cell_type": "code",
   "execution_count": 66,
   "metadata": {},
   "outputs": [
    {
     "name": "stdout",
     "output_type": "stream",
     "text": [
      "product_name ['Braun 百靈 Series 5 乾濕兩用電鬚刨 [51-B1200s]', 'Microsoft Office 365 [個人電子下載版/家庭版盒裝]', 'Sony WH-CH520 無線藍牙耳機 [黑色]', 'FujiFilm 富士 Instax Mini 9 即影即有相機 [鈷藍]', 'Razer DeathAdder V2 Pro 專業版無線遊戲滑鼠', '3M 濾水系統濾芯 [AP2-C405-G]', 'EGO Exinno 300W 即時輸出顯示USB充電器', 'ITSU 體脂磅 [2色]', 'MSI G244F 24\" 170Hz 電競顯示器', 'Philips 13合1剃鬚剪髮器 [MG3750]', 'Samsung ITFIT 三合一無線充電板 (With 30W Travel...', 'Beats Fit Pro  真無線消噪耳塞', 'Conair 電池水牙線', 'Fujifilm Instax Mini 12 即影即有相機 [5色]', 'GMK Nucbox G1 Mini-PC [Intel® N95/8GB/512GB...', \"KIEHL'S 金盞花植物精華爽膚水 [250ml] + 金盞花修復精...\", 'Kokoro 2023 迷你製冷 USB小風扇', 'Logitech K380 Slim多功能鍵盤 [2色] [送Promini 10NR]', 'Logitech K580 Slim 多功能鍵盤 [黑色/中文 920-009212] [...', 'ORICO 7 Port USB 3.0 Hub BC1.2 With Individual...']\n",
      "product_price ['599', '199', '380', '367', '499', '329', '820', '159', '999', '249', '58', '999', '199', '598', '1,799', '700', '99', '298', '358', '158']\n"
     ]
    }
   ],
   "source": [
    "for key, value in product_info.items():\n",
    "    print(key, value)"
   ]
  },
  {
   "cell_type": "code",
   "execution_count": 73,
   "metadata": {},
   "outputs": [
    {
     "data": {
      "text/plain": [
       "'Braun 百靈 Series 5 乾濕兩用電鬚刨 [51-B1200s]'"
      ]
     },
     "execution_count": 73,
     "metadata": {},
     "output_type": "execute_result"
    }
   ],
   "source": [
    "product_info.get('product_name')"
   ]
  }
 ],
 "metadata": {
  "kernelspec": {
   "display_name": "Python 3",
   "language": "python",
   "name": "python3"
  },
  "language_info": {
   "codemirror_mode": {
    "name": "ipython",
    "version": 3
   },
   "file_extension": ".py",
   "mimetype": "text/x-python",
   "name": "python",
   "nbconvert_exporter": "python",
   "pygments_lexer": "ipython3",
   "version": "3.10.11"
  },
  "orig_nbformat": 4
 },
 "nbformat": 4,
 "nbformat_minor": 2
}
