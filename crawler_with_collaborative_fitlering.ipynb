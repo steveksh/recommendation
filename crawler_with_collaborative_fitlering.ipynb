{
 "cells": [
  {
   "cell_type": "code",
   "execution_count": 1,
   "metadata": {},
   "outputs": [],
   "source": [
    "import pandas as pd \n",
    "import numpy as np \n",
    "import selenium\n",
    "from selenium import webdriver\n",
    "from webdriver_manager.chrome import ChromeDriverManager\n",
    "from selenium.webdriver.common.by import By\n",
    "\n",
    "# Install Driver \n",
    "driver = webdriver.Chrome(ChromeDriverManager().install())\n",
    "\n",
    "# Setting up urls &page=2\n",
    "search_url = [\"https://www.price.com.hk/ec-product-list.php?list_id=1218\", \"https://www.price.com.hk/ec-product-list.php?list_id=1218&page=2\"]\n"
   ]
  },
  {
   "cell_type": "code",
   "execution_count": 4,
   "metadata": {},
   "outputs": [],
   "source": [
    "from collections import defaultdict\n",
    "\n",
    "product_info = defaultdict(list)\n",
    "product_list = []\n",
    "price_list = []\n",
    "\n",
    "for url in search_url:\n",
    "    driver.get(url)\n",
    "    product_prices_raw = driver.find_elements(By.CLASS_NAME, \"text-price-number\")\n",
    "    product_name_raw = driver.find_elements(By.CLASS_NAME, \"ec-product-title\")\n",
    "\n",
    "    # product name \n",
    "    for product in product_name_raw:\n",
    "        product_list.append(product.text)\n",
    "\n",
    "    # product price - skipping the discounted prices \n",
    "    for index, price in enumerate(product_prices_raw, start = 1):\n",
    "        if index % 2 == 1:\n",
    "            continue\n",
    "        price_list.append(price.text)\n",
    "    product_info['product_name'].extend(product_list)\n",
    "    product_info['product_price'].extend(price_list)"
   ]
  },
  {
   "cell_type": "markdown",
   "metadata": {},
   "source": [
    "# Collborative Filtering "
   ]
  },
  {
   "cell_type": "code",
   "execution_count": 5,
   "metadata": {},
   "outputs": [],
   "source": [
    "import sklearn\n",
    "from sklearn.feature_extraction.text import TfidfVectorizer\n",
    "\n",
    "tfidf_instance = TfidfVectorizer()\n",
    "X = tfidf_instance.fit_transform(product_info.get('product_name'))\n",
    "\n",
    "from sklearn.neighbors import NearestNeighbors\n",
    "\n",
    "nbrs = NearestNeighbors(n_neighbors=5).fit(X)"
   ]
  },
  {
   "cell_type": "code",
   "execution_count": 67,
   "metadata": {},
   "outputs": [
    {
     "name": "stdout",
     "output_type": "stream",
     "text": [
      "You have recently purchased: 3M 濾水系統濾芯 [AP2-C405-G]\n"
     ]
    },
    {
     "data": {
      "text/plain": [
       "['3M 濾水系統濾芯 [AP2-C405-G]',\n",
       " 'ITSU 體脂磅 [2色]',\n",
       " 'ITSU 體脂磅 [2色]',\n",
       " 'MSI G244F 24\" 170Hz 電競顯示器',\n",
       " 'Razer DeathAdder V2 Pro 專業版無線遊戲滑鼠',\n",
       " 'FujiFilm 富士 Instax Mini 9 即影即有相機 [鈷藍]',\n",
       " 'Braun 百靈 Series 5 乾濕兩用電鬚刨 [51-B1200s]',\n",
       " 'Microsoft Office 365 [個人電子下載版/家庭版盒裝]',\n",
       " 'EGO Exinno 300W 即時輸出顯示USB充電器']"
      ]
     },
     "execution_count": 67,
     "metadata": {},
     "output_type": "execute_result"
    }
   ],
   "source": [
    "user_input = 5\n",
    "_index = nbrs.kneighbors(X[user_input], return_distance = False)[0].tolist()\n",
    "_index.remove(user_input)\n",
    "stuffs_to_recommend = []\n",
    "print(f\"You have recently purchased: {product_info.get('product_name')[user_input]}\")\n",
    "for i in (_index): \n",
    "    stuffs_to_recommend.append(product_info.get('product_name')[i])\n",
    "stuffs_to_recommend"
   ]
  }
 ],
 "metadata": {
  "kernelspec": {
   "display_name": "Python 3",
   "language": "python",
   "name": "python3"
  },
  "language_info": {
   "codemirror_mode": {
    "name": "ipython",
    "version": 3
   },
   "file_extension": ".py",
   "mimetype": "text/x-python",
   "name": "python",
   "nbconvert_exporter": "python",
   "pygments_lexer": "ipython3",
   "version": "3.10.11"
  },
  "orig_nbformat": 4
 },
 "nbformat": 4,
 "nbformat_minor": 2
}
